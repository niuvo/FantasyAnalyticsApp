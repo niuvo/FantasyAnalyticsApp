{
 "cells": [
  {
   "cell_type": "code",
   "execution_count": null,
   "metadata": {},
   "outputs": [
    {
     "ename": "",
     "evalue": "",
     "output_type": "error",
     "traceback": [
      "\u001b[1;31mRunning cells with 'Python 3.10.2 ('fantasy_app_venv': venv)' requires ipykernel package.\n",
      "\u001b[1;31mRun the following command to install 'ipykernel' into the Python environment. \n",
      "\u001b[1;31mCommand: '/Users/j.nicolaspinilla/Desktop/FantasyAnalyticsApp/fantasy_app_venv/bin/python -m pip install ipykernel -U --force-reinstall'"
     ]
    }
   ],
   "source": [
    "# Dependencies\n",
    "import pandas as pd\n",
    "import sys\n",
    "sys.path.append(\"..\") # Move up one directory to access the config.py file\n",
    "from config import league_id, espn_s2, swid"
   ]
  }
 ],
 "metadata": {
  "kernelspec": {
   "display_name": "Python 3.10.2 ('fantasy_app_venv': venv)",
   "language": "python",
   "name": "python3"
  },
  "language_info": {
   "name": "python",
   "version": "3.10.2"
  },
  "orig_nbformat": 4,
  "vscode": {
   "interpreter": {
    "hash": "c4fa21ccf73dd48a4dd48ce6ff9ed0c313f6f7c3d0287770d8fb4b3393162637"
   }
  }
 },
 "nbformat": 4,
 "nbformat_minor": 2
}
